{
 "cells": [
  {
   "cell_type": "markdown",
   "metadata": {},
   "source": [
    "# Equilibration - real experiment"
   ]
  },
  {
   "cell_type": "markdown",
   "metadata": {},
   "source": [
    "This Jupyter Notebook has been added later in order to equilibrate the system quickier, just running the following Python script:\n",
    "\n",
    "**Note**: it is different from the analogous Jupyter Notebook in the folder \"ex4-3\" because now the program does everything by its own (managing input and output files), but we just need to set the simulation parameters in <font face=\"Courier\">input.simulation</font>."
   ]
  },
  {
   "cell_type": "code",
   "execution_count": 3,
   "metadata": {},
   "outputs": [
    {
     "name": "stdout",
     "output_type": "stream",
     "text": [
      "Finished:  Argon solid\n",
      "Finished:  Argon liquid\n",
      "Finished:  Argon gas\n",
      "Finished:  Kripton solid\n",
      "Finished:  Kripton liquid\n",
      "Finished:  Kripton gas\n",
      "CPU times: user 21.9 ms, sys: 37.3 ms, total: 59.2 ms\n",
      "Wall time: 7min 49s\n"
     ]
    }
   ],
   "source": [
    "%%time\n",
    "\n",
    "import os\n",
    "\n",
    "#parameters:\n",
    "elements=['Argon','Kripton']\n",
    "phases=['solid','liquid','gas']\n",
    "restart=[0,1,1,1,1,1,1,1,1,1]\n",
    "rescale=[0,1,1,1,1,1,1,1,1,1]\n",
    "delta=0.0005\n",
    "nstep=1000 #for the equilibration\n",
    "nblock=50\n",
    "iprint=1000\n",
    "\n",
    "#DATA:\n",
    "#element+phase+restart+rescale+\n",
    "data1=\"\\n\"+str(delta)+\"\\n\"\n",
    "#+nstep+\n",
    "data2=\"\\n\"+str(nblock)+\"\\n\"+str(iprint)+\"\\n\\n  ReadInput >> element; \\n  ReadInput >> phase; \\n  ReadInput >> restart; \\n  ReadInput >> rescale; \\n  ReadInput >> delta; \\n  ReadInput >> nstep; \\n ReadInput >> nblock; \\n ReadInput >> iprint;\"\n",
    "\n",
    "for e in elements:\n",
    "    for p in phases:\n",
    "        \n",
    "        #prepare \"file environment\"\n",
    "        os.system(\"bash clean.sh\")\n",
    "        os.system(\"make clean\") # clean seed.out, old.0, old.final, config.final\n",
    "        os.system(\"rm \"+e+\"/\"+p+\"/*.out\")\n",
    "        if(e=='0'):\n",
    "            os.system(\"rm \"+p+\"/*.out\")\n",
    "        \n",
    "        #equilibration:\n",
    "        for r in range(7):\n",
    "\n",
    "            #just for the actual simulation:\n",
    "            if(r==6):\n",
    "                os.system(\"bash clean.sh\")\n",
    "                os.system(\"rm \"+e+\"/\"+p+\"/*.out\")\n",
    "                if(e=='0'):\n",
    "                    os.system(\"rm \"+p+\"/*.out\")\n",
    "                nstep=10000\n",
    "\n",
    "            #change input.dat\n",
    "            indat=open(\"input.simulation\", \"w\")\n",
    "            datatot=e+\"\\n\"+p+\"\\n\"+str(restart[r])+\"\\n\"+str(rescale[r])+\"\\n\"+data1+str(nstep)+data2\n",
    "            indat.write(datatot)\n",
    "            indat.close()\n",
    "            \n",
    "            #run the simulation\n",
    "            os.system(\"./MolDyn_NVE.exe\")\n",
    "        print (\"Finished: \", e, p)"
   ]
  },
  {
   "cell_type": "markdown",
   "metadata": {},
   "source": [
    "Otherwise here are the instructions to do it manually (extract from <font face=\"Courier\">README</font>):"
   ]
  },
  {
   "cell_type": "markdown",
   "metadata": {},
   "source": [
    "    0. Run -make clean- and -bash clean.sh-: delete previous configurations and output data (-make clean.all- to delete also the executable if it is necessary);\n",
    "\n",
    "    1. Before running -./MolDyn_NVE.exe–, ensure to set restart and rescale to 0, otherwise it gives an error message and exits the program: start from initial configuration and velocities randomly evaluated. Another move is suggested: setting the step to 1000 to accelerate the process of equilibration;\n",
    "\n",
    "    2. Change both restart and rescale to 1 (actually just rescale is sufficient): start from previous configurations and rescale velocities. \n",
    "\n",
    "    3. Run -./MolDyn_NVE.exe–.\n",
    "\n",
    "    4. Repeat this last move for at least 4/5 times.\n",
    "\n",
    "    5. Run -bash clean.sh- and change number of steps to >= 10000."
   ]
  }
 ],
 "metadata": {
  "kernelspec": {
   "display_name": "Python 3",
   "language": "python",
   "name": "python3"
  },
  "language_info": {
   "codemirror_mode": {
    "name": "ipython",
    "version": 3
   },
   "file_extension": ".py",
   "mimetype": "text/x-python",
   "name": "python",
   "nbconvert_exporter": "python",
   "pygments_lexer": "ipython3",
   "version": "3.7.4"
  }
 },
 "nbformat": 4,
 "nbformat_minor": 2
}
