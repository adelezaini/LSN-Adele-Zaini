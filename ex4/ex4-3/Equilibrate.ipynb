{
 "cells": [
  {
   "cell_type": "markdown",
   "metadata": {},
   "source": [
    "# Equilibration"
   ]
  },
  {
   "cell_type": "markdown",
   "metadata": {},
   "source": [
    "This Jupyter Notebook has been added later in order to equilibrate the system quickier, just running the following Python script:"
   ]
  },
  {
   "cell_type": "code",
   "execution_count": null,
   "metadata": {},
   "outputs": [],
   "source": [
    "%%time\n",
    "\n",
    "import os\n",
    "\n",
    "#parameters:\n",
    "restart=[0,1,1,1,1,1,1,1,1,1]\n",
    "rescale=[0,1,1,1,1,1,1,1,1,1]\n",
    "temp=1.1\n",
    "npart=108\n",
    "rho=0.8\n",
    "rcut=2.5\n",
    "delta=0.0005\n",
    "nstep=1000 #for the equilibration\n",
    "nblock=50\n",
    "iprint=1000\n",
    "\n",
    "#DATA:\n",
    "#restart+ rescale+\n",
    "data1=str(temp)+\"\\n\"+str(npart)+\"\\n\"+str(rho)+\"\\n\"+str(rcut)+\"\\n\"+str(delta)+\"\\n\"\n",
    "#+nstep+\n",
    "data2=\"\\n\"+str(nblock)+\"\\n\"+str(iprint)+\"\\n\\n  ReadInput >> restart; \\n  ReadInput >> rescale; \\n  ReadInput >> temp; \\n  ReadInput >> npart; \\n  ReadInput >> rho; \\n  ReadInput >> rcut; \\n  ReadInput >> delta; \\n  ReadInput >> nstep; \\n ReadInput >> nblock; \\n ReadInput >> iprint;\"\n",
    "\n",
    "#prepare \"file environment\"\n",
    "os.system(\"bash clean.sh\") # clean files in Results\n",
    "os.system(\"make clean\") # clean seed.out, old.0, old.final, config.final\n",
    "\n",
    "#equilibration:\n",
    "for r in range(6):\n",
    "    \n",
    "    #just for the actual simulation:\n",
    "    if(r==5):\n",
    "        os.system(\"bash clean.sh\")\n",
    "        nstep=10000\n",
    "        \n",
    "    #change input.dat\n",
    "    indat=open(\"input.dat\", \"w\")\n",
    "    datatot=str(restart[r])+\"\\n\"+str(rescale[r])+\"\\n\"+data1+str(nstep)+data2\n",
    "    indat.write(datatot)\n",
    "    indat.close()\n",
    "    #run the simulation\n",
    "    os.system(\"./MolDyn_NVE.exe\")\n",
    "\n",
    "print (\"Finished\")"
   ]
  },
  {
   "cell_type": "markdown",
   "metadata": {},
   "source": [
    "Otherwise here are the instructions to do it manually (extract from <font face=\"Courier\">README</font>):"
   ]
  },
  {
   "cell_type": "markdown",
   "metadata": {},
   "source": [
    "    0. Run -make clean- and -bash clean.sh-: delete previous configurations and output data (-make clean.all- to delete also the executable if it is necessary);\n",
    "\n",
    "    1. Before running -./MolDyn_NVE.exe–, ensure to set restart and rescale to 0, otherwise it gives an error message and exits the program: start from initial configuration and velocities randomly evaluated. Another move is suggested: setting the step to 1000 to accelerate the process of equilibration;\n",
    "\n",
    "    2. Change both restart and rescale to 1 (actually just rescale is sufficient): start from previous configurations and rescale velocities. \n",
    "\n",
    "    3. Run -./MolDyn_NVE.exe–.\n",
    "\n",
    "    4. Repeat this last move for at least 4/5 times.\n",
    "\n",
    "    5. Run -bash clean.sh- and change number of steps to >= 10000."
   ]
  }
 ],
 "metadata": {
  "kernelspec": {
   "display_name": "Python 3",
   "language": "python",
   "name": "python3"
  },
  "language_info": {
   "codemirror_mode": {
    "name": "ipython",
    "version": 3
   },
   "file_extension": ".py",
   "mimetype": "text/x-python",
   "name": "python",
   "nbconvert_exporter": "python",
   "pygments_lexer": "ipython3",
   "version": "3.7.4"
  }
 },
 "nbformat": 4,
 "nbformat_minor": 2
}
