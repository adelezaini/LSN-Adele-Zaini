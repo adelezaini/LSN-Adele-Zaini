{
 "cells": [
  {
   "cell_type": "markdown",
   "metadata": {},
   "source": [
    "# Exercises 8"
   ]
  },
  {
   "cell_type": "markdown",
   "metadata": {},
   "source": [
    "The task of this exercise focuses on computing the ground state of a quantum particle confines in the following potential:\n",
    "$$V(x) = x^4 - \\frac{5}{2}x^2$$\n",
    "This problem does not have an exact solution, but the only way is to approximate it numerically. So we use the <i> Variational Monte Carlo</i>, where the trial pdf is sampled by the Metropolis algorithm.\n",
    "\n",
    "### Variational Monte Carlo\n",
    "This method is based on the <span style=\"color:purple\"><i>**variational principle** </i></span>: it states that for any given wave function $\\psi_T$, the variational energy $E_T$ (i.e. normalized mean value of the hamiltonian on this state) is always greater than the ground state $E_0$:\n",
    "\n",
    "$$ E_T = \\frac{\\langle\\Psi_T|\\hat{H}|\\Psi_T\\rangle}{\\langle\\Psi_T|\\Psi_T\\rangle}\\geq E_0 $$\n",
    "\n",
    "This can suggest a way to approach $E_0$ because the game results in finding the best trial wave function: if we express it in function of one or more parameters, for instance $a$ s.t. $\\Psi_T=\\Psi_T(a)$, we can then evaluate the minimum of this new family of functions ( $\\Psi_{min}:=\\Psi_T(a^*)$ ), so we can consider $\\Psi_{min} \\approx \\Psi_0$ and then $E_{min} \\approx E_0$.\n",
    "\n",
    "The task now is to evaluate the <i>bra-ket</i> which is nothing but an integral:\n",
    "\n",
    "$$E_T = \\frac{\\int dx \\Psi^*_T(x) {\\hat H} \\Psi_T(x)}\n",
    "{\\int dx |\\Psi_T(x)|^2} = \\int dx \\frac{|\\Psi_T(x)|^2}{\\int dx |\\Psi_T(x)|^2} \\frac{{\\hat H} \\Psi_T(x)}{\\Psi_T(x)}$$\n",
    "\n",
    "where the first term represents the probability density and the second one the \"local energy\" (i.e. importance sampling integration). \n",
    "\n",
    "The latter can be evaluated considering the trial wave function as the sum of two symmetric Gaussians:\n",
    "\n",
    "$$\\Psi_T^{\\sigma,\\mu}(x) \\propto e^{-\\frac{(x-\\mu)^2}{2\\sigma^2}}+ e^{-\\frac{(x+\\mu)^2}{2\\sigma^2}}$$\n",
    "\n",
    "where $\\mu$ and $\\sigma$ are the two parameters to optimize, while the model Hamiltonian as the sum of the kinetic operator and the given potential such that:\n",
    "$$\\hat H\\, \\Psi_T^{\\sigma,\\mu}(x) =   -\\frac{1}{2m}\\frac{\\partial^2 \\Psi_T^{\\sigma,\\mu}(x)}{\\partial x^2} + V(x)\\,\\Psi_T^{\\sigma,\\mu}(x)$$\n",
    "\n",
    "The probability density $|\\Psi_T(x)|^2$ is sampled thanks to the Metropolis algorithm using an uniform transition probability $T(x_{new}|x_{old})$.\n",
    "\n",
    "Using data blocking, the code should be able to compute the expectation value for the Hamiltonian\n"
   ]
  },
  {
   "cell_type": "code",
   "execution_count": null,
   "metadata": {},
   "outputs": [],
   "source": [
    "### Optimizing paramaters"
   ]
  },
  {
   "cell_type": "code",
   "execution_count": 1,
   "metadata": {},
   "outputs": [
    {
     "ename": "OSError",
     "evalue": "EnergyT.0.out not found.",
     "output_type": "error",
     "traceback": [
      "\u001b[0;31m---------------------------------------------------------------------------\u001b[0m",
      "\u001b[0;31mOSError\u001b[0m                                   Traceback (most recent call last)",
      "\u001b[0;32m<ipython-input-1-435d7ac126a8>\u001b[0m in \u001b[0;36m<module>\u001b[0;34m\u001b[0m\n\u001b[1;32m     38\u001b[0m         \u001b[0mos\u001b[0m\u001b[0;34m.\u001b[0m\u001b[0msystem\u001b[0m\u001b[0;34m(\u001b[0m\u001b[0;34m\"./ex8-2/main.exe\"\u001b[0m\u001b[0;34m)\u001b[0m\u001b[0;34m\u001b[0m\u001b[0;34m\u001b[0m\u001b[0m\n\u001b[1;32m     39\u001b[0m         \u001b[0;31m#upload data on 2d array of energy\u001b[0m\u001b[0;34m\u001b[0m\u001b[0;34m\u001b[0m\u001b[0;34m\u001b[0m\u001b[0m\n\u001b[0;32m---> 40\u001b[0;31m         \u001b[0menergyT\u001b[0m\u001b[0;34m[\u001b[0m\u001b[0mm\u001b[0m\u001b[0;34m]\u001b[0m\u001b[0;34m[\u001b[0m\u001b[0ms\u001b[0m\u001b[0;34m]\u001b[0m\u001b[0;34m=\u001b[0m \u001b[0mnp\u001b[0m\u001b[0;34m.\u001b[0m\u001b[0mloadtxt\u001b[0m\u001b[0;34m(\u001b[0m\u001b[0;34m\"EnergyT.0.out\"\u001b[0m\u001b[0;34m,\u001b[0m \u001b[0mskiprows\u001b[0m\u001b[0;34m=\u001b[0m\u001b[0mnblock\u001b[0m\u001b[0;34m-\u001b[0m\u001b[0;36m1\u001b[0m\u001b[0;34m,\u001b[0m \u001b[0musecols\u001b[0m\u001b[0;34m=\u001b[0m\u001b[0;34m(\u001b[0m\u001b[0;36m2\u001b[0m\u001b[0;34m)\u001b[0m\u001b[0;34m,\u001b[0m \u001b[0munpack\u001b[0m\u001b[0;34m=\u001b[0m\u001b[0;32mTrue\u001b[0m\u001b[0;34m)\u001b[0m\u001b[0;34m\u001b[0m\u001b[0;34m\u001b[0m\u001b[0m\n\u001b[0m\u001b[1;32m     41\u001b[0m \u001b[0;34m\u001b[0m\u001b[0m\n\u001b[1;32m     42\u001b[0m \"\"\"\n",
      "\u001b[0;32m/opt/anaconda3/lib/python3.7/site-packages/numpy/lib/npyio.py\u001b[0m in \u001b[0;36mloadtxt\u001b[0;34m(fname, dtype, comments, delimiter, converters, skiprows, usecols, unpack, ndmin, encoding, max_rows)\u001b[0m\n\u001b[1;32m    966\u001b[0m             \u001b[0mfname\u001b[0m \u001b[0;34m=\u001b[0m \u001b[0mos_fspath\u001b[0m\u001b[0;34m(\u001b[0m\u001b[0mfname\u001b[0m\u001b[0;34m)\u001b[0m\u001b[0;34m\u001b[0m\u001b[0;34m\u001b[0m\u001b[0m\n\u001b[1;32m    967\u001b[0m         \u001b[0;32mif\u001b[0m \u001b[0m_is_string_like\u001b[0m\u001b[0;34m(\u001b[0m\u001b[0mfname\u001b[0m\u001b[0;34m)\u001b[0m\u001b[0;34m:\u001b[0m\u001b[0;34m\u001b[0m\u001b[0;34m\u001b[0m\u001b[0m\n\u001b[0;32m--> 968\u001b[0;31m             \u001b[0mfh\u001b[0m \u001b[0;34m=\u001b[0m \u001b[0mnp\u001b[0m\u001b[0;34m.\u001b[0m\u001b[0mlib\u001b[0m\u001b[0;34m.\u001b[0m\u001b[0m_datasource\u001b[0m\u001b[0;34m.\u001b[0m\u001b[0mopen\u001b[0m\u001b[0;34m(\u001b[0m\u001b[0mfname\u001b[0m\u001b[0;34m,\u001b[0m \u001b[0;34m'rt'\u001b[0m\u001b[0;34m,\u001b[0m \u001b[0mencoding\u001b[0m\u001b[0;34m=\u001b[0m\u001b[0mencoding\u001b[0m\u001b[0;34m)\u001b[0m\u001b[0;34m\u001b[0m\u001b[0;34m\u001b[0m\u001b[0m\n\u001b[0m\u001b[1;32m    969\u001b[0m             \u001b[0mfencoding\u001b[0m \u001b[0;34m=\u001b[0m \u001b[0mgetattr\u001b[0m\u001b[0;34m(\u001b[0m\u001b[0mfh\u001b[0m\u001b[0;34m,\u001b[0m \u001b[0;34m'encoding'\u001b[0m\u001b[0;34m,\u001b[0m \u001b[0;34m'latin1'\u001b[0m\u001b[0;34m)\u001b[0m\u001b[0;34m\u001b[0m\u001b[0;34m\u001b[0m\u001b[0m\n\u001b[1;32m    970\u001b[0m             \u001b[0mfh\u001b[0m \u001b[0;34m=\u001b[0m \u001b[0miter\u001b[0m\u001b[0;34m(\u001b[0m\u001b[0mfh\u001b[0m\u001b[0;34m)\u001b[0m\u001b[0;34m\u001b[0m\u001b[0;34m\u001b[0m\u001b[0m\n",
      "\u001b[0;32m/opt/anaconda3/lib/python3.7/site-packages/numpy/lib/_datasource.py\u001b[0m in \u001b[0;36mopen\u001b[0;34m(path, mode, destpath, encoding, newline)\u001b[0m\n\u001b[1;32m    267\u001b[0m \u001b[0;34m\u001b[0m\u001b[0m\n\u001b[1;32m    268\u001b[0m     \u001b[0mds\u001b[0m \u001b[0;34m=\u001b[0m \u001b[0mDataSource\u001b[0m\u001b[0;34m(\u001b[0m\u001b[0mdestpath\u001b[0m\u001b[0;34m)\u001b[0m\u001b[0;34m\u001b[0m\u001b[0;34m\u001b[0m\u001b[0m\n\u001b[0;32m--> 269\u001b[0;31m     \u001b[0;32mreturn\u001b[0m \u001b[0mds\u001b[0m\u001b[0;34m.\u001b[0m\u001b[0mopen\u001b[0m\u001b[0;34m(\u001b[0m\u001b[0mpath\u001b[0m\u001b[0;34m,\u001b[0m \u001b[0mmode\u001b[0m\u001b[0;34m,\u001b[0m \u001b[0mencoding\u001b[0m\u001b[0;34m=\u001b[0m\u001b[0mencoding\u001b[0m\u001b[0;34m,\u001b[0m \u001b[0mnewline\u001b[0m\u001b[0;34m=\u001b[0m\u001b[0mnewline\u001b[0m\u001b[0;34m)\u001b[0m\u001b[0;34m\u001b[0m\u001b[0;34m\u001b[0m\u001b[0m\n\u001b[0m\u001b[1;32m    270\u001b[0m \u001b[0;34m\u001b[0m\u001b[0m\n\u001b[1;32m    271\u001b[0m \u001b[0;34m\u001b[0m\u001b[0m\n",
      "\u001b[0;32m/opt/anaconda3/lib/python3.7/site-packages/numpy/lib/_datasource.py\u001b[0m in \u001b[0;36mopen\u001b[0;34m(self, path, mode, encoding, newline)\u001b[0m\n\u001b[1;32m    621\u001b[0m                                       encoding=encoding, newline=newline)\n\u001b[1;32m    622\u001b[0m         \u001b[0;32melse\u001b[0m\u001b[0;34m:\u001b[0m\u001b[0;34m\u001b[0m\u001b[0;34m\u001b[0m\u001b[0m\n\u001b[0;32m--> 623\u001b[0;31m             \u001b[0;32mraise\u001b[0m \u001b[0mIOError\u001b[0m\u001b[0;34m(\u001b[0m\u001b[0;34m\"%s not found.\"\u001b[0m \u001b[0;34m%\u001b[0m \u001b[0mpath\u001b[0m\u001b[0;34m)\u001b[0m\u001b[0;34m\u001b[0m\u001b[0;34m\u001b[0m\u001b[0m\n\u001b[0m\u001b[1;32m    624\u001b[0m \u001b[0;34m\u001b[0m\u001b[0m\n\u001b[1;32m    625\u001b[0m \u001b[0;34m\u001b[0m\u001b[0m\n",
      "\u001b[0;31mOSError\u001b[0m: EnergyT.0.out not found."
     ]
    }
   ],
   "source": [
    "import os\n",
    "import numpy as np\n",
    "\n",
    "npoints=100\n",
    "#parameters:\n",
    "x0=0\n",
    "delta=3.5\n",
    "nblock=20\n",
    "L=10000\n",
    "transition=\"Uniform\"\n",
    "\n",
    "mu=0.0\n",
    "sigma=0.0\n",
    "equi=0\n",
    "\n",
    "#prepare mega array for all possible value of energy depending on mu and sigma (combined)\n",
    "energyT = [[0]*npoints]*npoints\n",
    "\n",
    "#prepare \"file environment\"\n",
    "os.system(\"rm *.out\")\n",
    "#oute=open(\"ex8-2/EnergyT_min.out\", \"w+\")\n",
    "\n",
    "Mu=np.linspace(0.0, 5.0, npoints)\n",
    "Sigma=np.linspace(0.0, 5.0, npoints)\n",
    "\n",
    "for m in range(npoints):\n",
    "    mu=Mu[m]\n",
    "    for s in range(npoints):\n",
    "        sigma=Sigma[s]\n",
    "\n",
    "        #change input.dat\n",
    "        data=str(x0)+\"\\n\"+str(delta)+\"\\n\"+str(nblock)+\"\\n\"+str(L)+\"\\n\"+transition+\"\\n\"+str(mu)+\"\\n\"+str(sigma)+\"\\n\"+str(equi)+\"\\n\\n  ReadInput >> x0; \\n  ReadInput >> delta; \\n  ReadInput >> nblock; \\n  ReadInput >> nstep; //per block (L) \\n  ReadInput >> transition; \\n  ReadInput >> mu;\\n  ReadInput >> sigma;\\n  ReadInput >> equi;\"\n",
    "        indat=open(\"input.dat\", \"w\")\n",
    "        indat.write(data)\n",
    "        indat.close()\n",
    "\n",
    "        #run the simulation at temperature \n",
    "        os.system(\"./ex8-2/main.exe\")\n",
    "        #upload data on 2d array of energy\n",
    "        energyT[m][s]= np.loadtxt(\"EnergyT.0.out\", skiprows=nblock-1, usecols=(2), unpack=True)\n",
    "\n",
    "\"\"\"\n",
    "            dataout=str(t)+\"\\t\"+str(me)+\"\\t\"+str(erre)+\"\\n\"\n",
    "            oute.write(dataout)\n",
    "        oute.close()\n",
    "        outc.close()\n",
    "        outx.close()\n",
    "\"\"\"\n",
    "\n",
    "print (energyT)\n",
    "print (\"Finished\")"
   ]
  },
  {
   "cell_type": "code",
   "execution_count": null,
   "metadata": {},
   "outputs": [],
   "source": [
    "setto inizial point a 0 (dove c'è max)"
   ]
  },
  {
   "cell_type": "code",
   "execution_count": null,
   "metadata": {},
   "outputs": [],
   "source": []
  }
 ],
 "metadata": {
  "kernelspec": {
   "display_name": "Python 3",
   "language": "python",
   "name": "python3"
  },
  "language_info": {
   "codemirror_mode": {
    "name": "ipython",
    "version": 3
   },
   "file_extension": ".py",
   "mimetype": "text/x-python",
   "name": "python",
   "nbconvert_exporter": "python",
   "pygments_lexer": "ipython3",
   "version": "3.7.4"
  }
 },
 "nbformat": 4,
 "nbformat_minor": 2
}
