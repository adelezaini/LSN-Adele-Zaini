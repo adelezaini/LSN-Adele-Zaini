{
 "cells": [
  {
   "cell_type": "markdown",
   "metadata": {},
   "source": [
    "# Create&Equilibrate NVE"
   ]
  },
  {
   "cell_type": "markdown",
   "metadata": {},
   "source": [
    "I added this Jupyter Notebook in order to make the input-output files management more efficient and quickier, as well as the equilibration phase."
   ]
  },
  {
   "cell_type": "code",
   "execution_count": 18,
   "metadata": {},
   "outputs": [
    {
     "name": "stdout",
     "output_type": "stream",
     "text": [
      "solid finished \n",
      "liquid finished \n",
      "gas finished \n",
      "CPU times: user 8.3 ms, sys: 19.8 ms, total: 28.1 ms\n",
      "Wall time: 3min 11s\n"
     ]
    }
   ],
   "source": [
    "%%time\n",
    "import os\n",
    "\n",
    "phases=['solid','liquid','gas']\n",
    "\n",
    "restart=[0,1,1,1,1,1,1,1,1,1]\n",
    "rescale=[0,1,1,1,1,1,1,1,1,1]\n",
    "temps=[0.8, 1.1,1.2]\n",
    "npart=108\n",
    "rhos=[1.1,0.8 ,0.05]\n",
    "rcuts=[2.2,2.5,5.0]\n",
    "delta=0.0005\n",
    "nstep=1000 #for the equilibration\n",
    "nblock=50\n",
    "iprint=1000\n",
    "\n",
    "for p in range(3):\n",
    "    \n",
    "    #prepare data in function of the phase:\n",
    "    \n",
    "    #restart+ rescale+\n",
    "    data1=str(temps[p])+\"\\n\"+str(npart)+\"\\n\"+str(rhos[p])+\"\\n\"+str(rcuts[p])+\"\\n\"+str(delta)+\"\\n\"\n",
    "    #+nstep+\n",
    "    data2=\"\\n\"+str(nblock)+\"\\n\"+str(iprint)+\"\\n\\n  ReadInput >> restart; \\n  ReadInput >> rescale; \\n  ReadInput >> temp; \\n  ReadInput >> npart; \\n  ReadInput >> rho; \\n  ReadInput >> rcut; \\n  ReadInput >> delta; \\n  ReadInput >> nstep; \\n ReadInput >> nblock; \\n ReadInput >> iprint;\"\n",
    "    \n",
    "    #prepare \"file environment\"\n",
    "    os.system(\"bash clean.sh\")\n",
    "    os.system(\"make clean\") # clean seed.out, old.0, old.final, config.final\n",
    "    os.system(\"rm \"+phases[p]+\"/*.out\")\n",
    "    \n",
    "    #equilibration:\n",
    "    for r in range(6):\n",
    "\n",
    "        #just for the actual simulation:\n",
    "        if(r==5):\n",
    "            os.system(\"bash clean.sh\")\n",
    "            #os.system(\"rm *.out\")\n",
    "            nstep=10000\n",
    "\n",
    "        #change input.dat\n",
    "        indat=open(\"input.dat\", \"w\")\n",
    "        datatot=str(restart[r])+\"\\n\"+str(rescale[r])+\"\\n\"+data1+str(nstep)+data2\n",
    "        indat.write(datatot)\n",
    "        indat.close()\n",
    "        #run the simulation\n",
    "        os.system(\"./MolDyn_NVE.exe\")\n",
    "    \n",
    "    os.system(\"mv *.out \"+phases[p]) #move results into the proper forlder\n",
    "    print (phases[p]+\" finished \")"
   ]
  },
  {
   "cell_type": "markdown",
   "metadata": {},
   "source": [
    "Otherwise here are the instructions to equilibrate the system manually (extract from <font face=\"Courier\">README</font>):"
   ]
  },
  {
   "cell_type": "markdown",
   "metadata": {},
   "source": [
    "    0. Run -make clean- and -bash clean.sh-: delete previous configurations and output data (-make clean.all- to delete also the executable if it is necessary);\n",
    "\n",
    "    1. Before running -./MolDyn_NVE.exe–, ensure to set restart and rescale to 0, otherwise it gives an error message and exits the program: start from initial configuration and velocities randomly evaluated. Another move is suggested: setting the step to 1000 to accelerate the process of equilibration;\n",
    "\n",
    "    2. Change both restart and rescale to 1 (actually just rescale is sufficient): start from previous configurations and rescale velocities. \n",
    "\n",
    "    3. Run -./MolDyn_NVE.exe–.\n",
    "\n",
    "    4. Repeat this last move for at least 4/5 times.\n",
    "\n",
    "    5. Run -bash clean.sh- and change number of steps to >= 10000."
   ]
  }
 ],
 "metadata": {
  "kernelspec": {
   "display_name": "Python 3",
   "language": "python",
   "name": "python3"
  },
  "language_info": {
   "codemirror_mode": {
    "name": "ipython",
    "version": 3
   },
   "file_extension": ".py",
   "mimetype": "text/x-python",
   "name": "python",
   "nbconvert_exporter": "python",
   "pygments_lexer": "ipython3",
   "version": "3.7.4"
  }
 },
 "nbformat": 4,
 "nbformat_minor": 2
}
